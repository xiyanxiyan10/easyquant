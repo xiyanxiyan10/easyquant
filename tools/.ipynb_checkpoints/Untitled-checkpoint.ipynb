{
 "cells": [
  {
   "cell_type": "markdown",
   "id": "13c375bb-880d-431e-b0ba-cc222f997445",
   "metadata": {},
   "source": [
    "# 在线展示选中的物资收益率"
   ]
  },
  {
   "cell_type": "code",
   "execution_count": 1,
   "id": "2690e8bf-240d-42b0-9da0-145098652ff1",
   "metadata": {},
   "outputs": [
    {
     "data": {
      "text/plain": [
       "<Figure size 1000x400 with 0 Axes>"
      ]
     },
     "metadata": {},
     "output_type": "display_data"
    },
    {
     "data": {
      "image/png": "[encoded data removed]",
      "text/plain": [
       "<Figure size 1500x600 with 1 Axes>"
      ]
     },
     "metadata": {},
     "output_type": "display_data"
    }
   ],
   "source": [
    "import akshare as ak\n",
    "import numpy as np\n",
    "import random\n",
    "import time\n",
    "from datetime import datetime\n",
    "import pandas as pd\n",
    "#from easydl import clear_output\n",
    "\n",
    "%matplotlib inline\n",
    "import matplotlib.pyplot as plt\n",
    "import matplotlib.dates as mdates\n",
    "from pylab import mpl\n",
    "import matplotlib \n",
    "\n",
    "# set up matplotlib\n",
    "is_ipython = 'inline' in matplotlib.get_backend()\n",
    "if is_ipython:\n",
    "    from IPython import display\n",
    "\n",
    "plt.ion()\n",
    "\n",
    "nameList = ['美年健康', '爱尔眼科', '华恒生物']\n",
    "codeList = ['002044', '300015', '688639']\n",
    "buyPricesList = [4.0, 20.0, 120.0]\n",
    "buydateList = ['2023-12-13', '2023-12-13', '2023-12-13']\n",
    "currDict = {}\n",
    "\n",
    "start_date = datetime.strptime('2023-12-12', \"%Y-%m-%d\")\n",
    "end_date = datetime.strptime('2024-01-11', \"%Y-%m-%d\")\n",
    "\n",
    "#定义随机生成颜色函数\n",
    "def randomcolor():\n",
    "    colorArr = ['1','2','3','4','5','6','7','8','9','A','B','C','D','E','F']\n",
    "    color =\"#\"+''.join([random.choice(colorArr) for i in range(6)])\n",
    "    return color\n",
    "\n",
    "def get_24h_str():\n",
    "    return  time.strftime('%H:%M:%S', time.localtime())\n",
    "    \n",
    "def set_date(df, key):\n",
    "    date_list = df[key].to_list()\n",
    "    date_index=[]\n",
    "    for date_elem in date_list:\n",
    "        date_index.append(date_elem.strftime('%Y-%m-%d'))\n",
    "    return df.set_axis(date_index)\n",
    "\n",
    "\n",
    "mpl.rcParams['font.sans-serif']=['simhei']# 指定默认字体\n",
    "mpl.rcParams['axes.unicode_minus'] = False # 解决保存图像是负号'-'显示为方块的问题\n",
    "mpl.rcParams['figure.figsize'] = (15.0, 6.0)\n",
    "\n",
    "\n",
    "# 每次调用都将放入采集到的当前行情入dict\n",
    "def collect_daily_curr():\n",
    "    df = ak.stock_zh_a_spot_em()\n",
    "    df= df.set_index(\"代码\")\n",
    "    for code in codeList:\n",
    "        data ={\n",
    "            'time': time,\n",
    "            'price': df.loc[code, '最新价'],\n",
    "            'vol': df.loc[code, '成交量'],\n",
    "            'code': code\n",
    "        }\n",
    "        currDict[code] = data\n",
    "       \n",
    "\n",
    "def build_rate_list():\n",
    "    negative_rate_list = []\n",
    "    positive_rate_list = []\n",
    "    for idx in range(len(codeList)):\n",
    "        dt = currDict[codeList[idx]]\n",
    "        rate = (dt['price'] - buyPricesList[idx])/ buyPricesList[idx] *100\n",
    "        rate = round(rate, 1)\n",
    "        if rate < 0:\n",
    "            negative_rate_list.append(rate)\n",
    "            positive_rate_list.append(0.0)\n",
    "        else:\n",
    "            negative_rate_list.append(0.0)\n",
    "            positive_rate_list.append(rate)\n",
    "        \n",
    "    return (positive_rate_list, negative_rate_list)\n",
    "    \n",
    "        \n",
    "for idx in range(5):\n",
    "    collect_daily_curr()\n",
    "    rate_list = build_rate_list()\n",
    "    x = np.arange(len(rate_list[0]))\n",
    "    #print(rate_list[0])\n",
    "    #print(rate_list[1])\n",
    "    #print(x)\n",
    "\n",
    "    if is_ipython:\n",
    "        display.clear_output(wait=True)\n",
    "        \n",
    "    plt.figure(figsize=(10,4))\n",
    "\n",
    "    fig, ax = plt.subplots()\n",
    "    positive_bar = ax.barh(x, rate_list[0], fc=\"red\", tick_label=nameList)\n",
    "    negative_bar = ax.barh(x, rate_list[1], fc=\"green\", tick_label=nameList)\n",
    "    ax.bar_label(negative_bar, fmt=lambda x: f'{x :.1f} %' if x !=0.0 else \"\", label_type='edge')\n",
    "    ax.bar_label(positive_bar, fmt=lambda x: f'{x :.1f} %' if x !=0.0 else \"\", label_type='edge')\n",
    "    \n",
    "    # 设置标题\n",
    "    plt.title(\"实时盈亏图\")\n",
    "\n",
    "    # 设置坐标轴名称\n",
    "    ax.set_xlabel(\"收益率\")\n",
    "    ax.set_xticks(list(range(-100, 101, 25)))\n",
    "    xticks_labels = list(str(x)+'%' for x in range(-100, 101, 25))\n",
    "\n",
    "    ax.set_xticklabels(xticks_labels)\n",
    "    plt.show()\n",
    "    plt.pause(1)  # pause a bit so that plots are updated"
   ]
  },
  {
   "cell_type": "code",
   "execution_count": null,
   "id": "e133a5db-4c69-40c3-ae9c-73436a25b0a0",
   "metadata": {},
   "outputs": [],
   "source": []
  }
 ],
 "metadata": {
  "kernelspec": {
   "display_name": "Python 3 (ipykernel)",
   "language": "python",
   "name": "python3"
  },
  "language_info": {
   "codemirror_mode": {
    "name": "ipython",
    "version": 3
   },
   "file_extension": ".py",
   "mimetype": "text/x-python",
   "name": "python",
   "nbconvert_exporter": "python",
   "pygments_lexer": "ipython3",
   "version": "3.10.13"
  }
 },
 "nbformat": 4,
 "nbformat_minor": 5
}
